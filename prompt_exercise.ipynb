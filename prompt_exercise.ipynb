{
  "nbformat": 4,
  "nbformat_minor": 0,
  "metadata": {
    "colab": {
      "provenance": [],
      "toc_visible": true,
      "authorship_tag": "ABX9TyP7KYrtQARDDjCKzZkgr3NM",
      "include_colab_link": true
    },
    "kernelspec": {
      "name": "python3",
      "display_name": "Python 3"
    },
    "language_info": {
      "name": "python"
    }
  },
  "cells": [
    {
      "cell_type": "markdown",
      "metadata": {
        "id": "view-in-github",
        "colab_type": "text"
      },
      "source": [
        "<a href=\"https://colab.research.google.com/github/mzohaibnasir/cLabs_Miscellaneous/blob/main/prompt_exercise.ipynb\" target=\"_parent\"><img src=\"https://colab.research.google.com/assets/colab-badge.svg\" alt=\"Open In Colab\"/></a>"
      ]
    },
    {
      "cell_type": "markdown",
      "source": [
        "# Generate Study Plans for Multiple Students Based on Provided Data Only\n"
      ],
      "metadata": {
        "id": "t2qQjJhAxQrL"
      }
    },
    {
      "cell_type": "markdown",
      "source": [
        "## LLM"
      ],
      "metadata": {
        "id": "smnKmsjAxWT3"
      }
    },
    {
      "cell_type": "code",
      "source": [
        "from openai import OpenAI\n",
        "\n",
        "\n",
        "from google.colab import userdata\n",
        "OPENAIAPIKEY = userdata.get('OPENAI_API_KEY')\n",
        "\n",
        "client = OpenAI( api_key = OPENAIAPIKEY )\n",
        "client"
      ],
      "metadata": {
        "colab": {
          "base_uri": "https://localhost:8080/"
        },
        "id": "idAm8P-keh5K",
        "outputId": "3a3e99e8-12b2-4772-f1fe-8d5113375ac6"
      },
      "execution_count": 16,
      "outputs": [
        {
          "output_type": "execute_result",
          "data": {
            "text/plain": [
              "<openai.OpenAI at 0x7b1757698f10>"
            ]
          },
          "metadata": {},
          "execution_count": 16
        }
      ]
    },
    {
      "cell_type": "code",
      "source": [],
      "metadata": {
        "id": "u94ivQOVeiLe"
      },
      "execution_count": 47,
      "outputs": []
    },
    {
      "cell_type": "code",
      "source": [],
      "metadata": {
        "id": "wbtEzb6geiN9"
      },
      "execution_count": 47,
      "outputs": []
    },
    {
      "cell_type": "markdown",
      "source": [
        "## SYSTEM prompts"
      ],
      "metadata": {
        "id": "t9ZERQ_WxZkD"
      }
    },
    {
      "cell_type": "code",
      "source": [
        "system_prompt_3 = \"\"\"Generate Study Plans for Multiple Students Based on Provided Data Only\n",
        "\n",
        "DO:\n",
        "1. Create comprehensive study plans for each student based on their individual data\n",
        "2. Accommodate each student's schedule and commitments\n",
        "3. Address each student's challenges and preferences\n",
        "4. Help each student achieve their personal objectives\n",
        "5. Provide a clear, organized, and detailed plan for each student, including:\n",
        "    a. Weekly schedule with dedicated study times\n",
        "    b.Recommended learning resources\n",
        "    c. Time management and prioritization strategies\n",
        "    d. Progress assessment and adjustment suggestions\n",
        "6.Return a table schedule for each student with their respective study plan details\n",
        "\n",
        "\n",
        "DON'T:\n",
        "1. Ask for further input or clarification\n",
        "2. Provide suggestions or recommendations beyond the scope of the study plans\n",
        "3. Request additional information or data\n",
        "4. Return anything other than a table schedule with the study plan details for each student\n",
        "\n",
        "\n",
        "Input Format:\n",
        "A list of students with their individual data, including:\n",
        "1. Name\n",
        "2. Field of Study\n",
        "3. Year of Study\n",
        "4. Subjects\n",
        "5. Preferred Learning Style\n",
        "6. Personal Objectives\n",
        "7. Challenges\n",
        "8. Extracurricular Activities\n",
        "\n",
        "\n",
        "Example Input:\n",
        "[\n",
        "{\n",
        "\"name\": \"John Doe\",\n",
        "\"field_of_study\": \"Computer Science\",\n",
        "\"year_of_study\": 3,\n",
        "\"subjects\": [\"Algorithms\", \"Data Structures\", \"Computer Networks\"],\n",
        "\"preferred_learning_style\": \"Visual\",\n",
        "\"personal_objectives\": \"Land a job at a top tech company\",\n",
        "\"challenges\": \"Struggling with time management and prioritization\",\n",
        "\"extracurricular_activities\": [\"Coding Club\", \"Volunteering at a tech non-profit\"]\n",
        "},\n",
        "{\n",
        "\"name\": \"Jane Smith\",\n",
        "\"field_of_study\": \"Biology\",\n",
        "\"year_of_study\": 2,\n",
        "\"subjects\": [\"Cell Biology\", \"Genetics\", \"Ecology\"],\n",
        "\"preferred_learning_style\": \"Auditory\",\n",
        "\"personal_objectives\": \"Get accepted into a top medical school\",\n",
        "\"challenges\": \"Difficulty with memorization and concept application\",\n",
        "\"extracurricular_activities\": [\"Science Club\", \"Volunteering at a hospital\"]\n",
        "},\n",
        "\n",
        "]\n",
        "Note: The study plans must be generated solely based on the provided input data. No external information or resources should be used. Return scheduale against each student.\"\"\""
      ],
      "metadata": {
        "id": "pT7AJEvfRgqD"
      },
      "execution_count": 63,
      "outputs": []
    },
    {
      "cell_type": "code",
      "source": [],
      "metadata": {
        "id": "MXHfA_tfwORV"
      },
      "execution_count": null,
      "outputs": []
    },
    {
      "cell_type": "code",
      "source": [],
      "metadata": {
        "id": "ZLRXtfjzwOUx"
      },
      "execution_count": null,
      "outputs": []
    },
    {
      "cell_type": "code",
      "source": [
        "system_prompt_2 =\n",
        "\"\"\"\n",
        "Attention LLM: This prompt requires you to generate comprehensive and optimized study plans for multiple students based solely on the provided\n",
        "information. Utilize your knowledge and capabilities to the fullest to create effective plans without requesting further input or suggestions.\n",
        "\"\"\""
      ],
      "metadata": {
        "colab": {
          "base_uri": "https://localhost:8080/",
          "height": 110
        },
        "id": "x-gMETV-qeIz",
        "outputId": "06c3ea66-4e13-43be-a6ff-193fc17beff6"
      },
      "execution_count": 64,
      "outputs": [
        {
          "output_type": "error",
          "ename": "SyntaxError",
          "evalue": "invalid syntax (<ipython-input-64-1bd11e46178b>, line 1)",
          "traceback": [
            "\u001b[0;36m  File \u001b[0;32m\"<ipython-input-64-1bd11e46178b>\"\u001b[0;36m, line \u001b[0;32m1\u001b[0m\n\u001b[0;31m    system_prompt_2 =\u001b[0m\n\u001b[0m                     ^\u001b[0m\n\u001b[0;31mSyntaxError\u001b[0m\u001b[0;31m:\u001b[0m invalid syntax\n"
          ]
        }
      ]
    },
    {
      "cell_type": "markdown",
      "source": [
        "## USER prompt"
      ],
      "metadata": {
        "id": "8YE60QgtxfDO"
      }
    },
    {
      "cell_type": "code",
      "source": [
        "user_prompt = f\"\"\"\n",
        "\n",
        "Hey there! I'd love some help creating a study plan for John Doe, a 3rd-year Computer Science student. Here's some info about John:\n",
        "The students' data is as follows:\n",
        "John Doe, a 3rd-year Computer Science student, prefers visual learning and is struggling with time management and prioritization. He is part of the Coding Club and volunteers at a tech non-profit, and his goal is to land a job at a top tech company.\n",
        "Jane Smith, a 2nd-year Biology student, prefers auditory learning and is having difficulty with memorization and concept application. She is part of the Science Club and volunteers at a hospital, and her goal is to get accepted into a top medical school.\n",
        "Maria Rodriguez, a 4th-year Psychology student, prefers kinesthetic learning and is struggling with motivation and focus. She is part of the Psychology Club and volunteers at a mental health organization, and her goal is to pursue a career in counseling.\n",
        "prompt\"\"\""
      ],
      "metadata": {
        "id": "BP3Ecx1iRgoJ"
      },
      "execution_count": 47,
      "outputs": []
    },
    {
      "cell_type": "markdown",
      "source": [
        "## Execution"
      ],
      "metadata": {
        "id": "_GpG58ngxnfA"
      }
    },
    {
      "cell_type": "code",
      "source": [
        "response2 = client.chat.completions.create(\n",
        "    model=\"gpt-4o\",\n",
        "    messages=[\n",
        "\n",
        "         {\n",
        "                \"role\":\"system\",\n",
        "                \"content\":system_prompt_2\n",
        "                },\n",
        "\n",
        "         {\n",
        "                \"role\":\"user\",\n",
        "                \"content\":user_prompt\n",
        "                }\n",
        "         ],\n",
        "    )\n",
        "\n",
        "response2"
      ],
      "metadata": {
        "id": "Xm0vyuAleh7x"
      },
      "execution_count": null,
      "outputs": []
    },
    {
      "cell_type": "code",
      "source": [
        "print(response2.choices[0].message.content)"
      ],
      "metadata": {
        "colab": {
          "base_uri": "https://localhost:8080/"
        },
        "id": "hQIH_v5Leh-e",
        "outputId": "6fa2d2cf-cd6c-4da2-ea22-15ceaa51a3a3"
      },
      "execution_count": 61,
      "outputs": [
        {
          "output_type": "stream",
          "name": "stdout",
          "text": [
            "Sure! Here are study plans for each student based on their preferences and challenges:\n",
            "\n",
            "**Study Plan for John Doe, 3rd-year Computer Science Student:**\n",
            "\n",
            "**Objective:** Enhance learning efficiency and time management to secure a job at a top tech company.\n",
            "\n",
            "**Weekly Schedule:**\n",
            "\n",
            "**Monday:**\n",
            "- **8:00 AM - 9:00 AM:** Wake up, morning exercise.\n",
            "- **9:30 AM - 12:30 PM:** Attend classes/lectures.\n",
            "- **1:30 PM - 2:30 PM:** Lunch break.\n",
            "- **2:30 PM - 4:30 PM:** Study core subjects (Data Structures, Algorithms) using visual aids (diagrams, flowcharts).\n",
            "- **5:00 PM - 6:00 PM:** Coding practice (LeetCode/HackerRank).\n",
            "- **7:00 PM - 8:00 PM:** Coding Club activities.\n",
            "- **8:30 PM - 10:00 PM:** Personal project or work on Coding Club projects.\n",
            "\n",
            "**Tuesday:**\n",
            "- **8:00 AM - 9:00 AM:** Wake up, morning exercise.\n",
            "- **9:30 AM - 12:30 PM:** Attend classes/lectures.\n",
            "- **1:30 PM - 2:30 PM:** Lunch break.\n",
            "- **2:30 PM - 4:30 PM:** Study Advanced Topics (AI/ML) using online visual courses (YouTube, Coursera).\n",
            "- **5:00 PM - 6:00 PM:** Volunteering at tech non-profit.\n",
            "- **7:00 PM - 8:00 PM:** Networking and job search (LinkedIn, career sites).\n",
            "- **8:30 PM - 10:00 PM:** Review and organize notes using mind maps.\n",
            "\n",
            "**Wednesday:**\n",
            "- **8:00 AM - 9:00 AM:** Wake up, morning exercise.\n",
            "- **9:30 AM - 12:30 PM:** Attend classes/lectures.\n",
            "- **1:30 PM - 2:30 PM:** Lunch break.\n",
            "- **2:30 PM - 4:30 PM:** Study using visual aids (video tutorials, infographic summaries).\n",
            "- **5:00 PM - 6:00 PM:** Coding practice.\n",
            "- **7:00 PM - 8:00 PM:** Attend industry webinars or tech talks.\n",
            "- **8:30 PM - 10:00 PM:** Review and practical exercise.\n",
            "\n",
            "**Thursday:**\n",
            "- **8:00 AM - 9:00 AM:** Wake up, morning exercise.\n",
            "- **9:30 AM - 12:30 PM:** Attend classes/lectures.\n",
            "- **1:30 PM - 2:30 PM:** Lunch break.\n",
            "- **2:30 PM - 4:30 PM:** Group study sessions (join online study groups focusing on visuals).\n",
            "- **5:00 PM - 6:00 PM:** Volunteering at tech non-profit.\n",
            "- **7:00 PM - 8:00 PM:** Coding practice, problem-solving challenges.\n",
            "- **8:30 PM - 10:00 PM:** Update and refine resume and portfolio.\n",
            "\n",
            "**Friday:**\n",
            "- **8:00 AM - 9:00 AM:** Wake up, morning exercise.\n",
            "- **9:30 AM - 12:30 PM:** Attend classes/lectures.\n",
            "- **1:30 PM - 2:30 PM:** Lunch break.\n",
            "- **2:30 PM - 4:30 PM:** Study elective courses with visual resources.\n",
            "- **5:00 PM - 6:00 PM:** Coding practice.\n",
            "- **7:00 PM - 8:00 PM:** Free time / relax.\n",
            "- **8:30 PM - 10:00 PM:** Preparation for Coding Club weekend activities.\n",
            "\n",
            "**Saturday:**\n",
            "- **9:00 AM - 10:00 AM:** Morning exercise.\n",
            "- **10:30 AM - 12:30 PM:** Attend Coding Club Hackathon/Workshop.\n",
            "- **1:30 PM - 2:30 PM:** Lunch break.\n",
            "- **2:30 PM - 4:30 PM:** Work on Coding Club or personal projects.\n",
            "- **5:00 PM - 6:00 PM:** Network with peers and professionals.\n",
            "- **Evening:** Relax, socialize, leisure activities.\n",
            "\n",
            "**Sunday:**\n",
            "- **10:00 AM - 12:00 PM:** Relax, reflection, and planning for the week.\n",
            "- **1:00 PM - 3:00 PM:** Personal learning (coursework, self-study using visual tools).\n",
            "- **4:00 PM - 6:00 PM:** Volunteering at tech non-profit.\n",
            "- **7:00 PM - 9:00 PM:** Family time/Socialize.\n",
            "- **9:00 PM onwards:** Prepare for the coming week, setup goals, update schedule.\n",
            "\n",
            "---\n",
            "\n",
            "**Study Plan for Jane Smith, 2nd-year Biology Student:**\n",
            "\n",
            "**Objective:** Improve memorization and concept application to secure admission to a top medical school.\n",
            "\n",
            "**Weekly Schedule:**\n",
            "\n",
            "**Monday:**\n",
            "- **8:00 AM - 9:00 AM:** Wake up, morning exercise.\n",
            "- **9:30 AM - 12:30 PM:** Attend classes/lectures.\n",
            "- **1:30 PM - 2:30 PM:** Lunch break.\n",
            "- **2:30 PM - 4:30 PM:** Study using auditory resources (recorded lectures, podcasts).\n",
            "- **5:00 PM - 6:00 PM:** Volunteering at hospital.\n",
            "- **7:00 PM - 8:00 PM:** Science Club activities.\n",
            "- **8:30 PM - 10:00 PM:** Review and use flashcards with audio.\n",
            "\n",
            "**Tuesday:**\n",
            "- **8:00 AM - 9:00 AM:** Wake up, morning exercise.\n",
            "- **9:30 AM - 12:30 PM:** Attend classes/lectures.\n",
            "- **1:30 PM - 2:30 PM:** Lunch break.\n",
            "- **2:30 PM - 4:30 PM:** Small group discussions (auditory learning).\n",
            "- **5:00 PM - 6:00 PM:** Volunteering at hospital.\n",
            "- **7:00 PM - 8:00 PM:** Practice question-solving using audio aids.\n",
            "- **8:30 PM - 10:00 PM:** Relax and recreational activities.\n",
            "\n",
            "**Wednesday:**\n",
            "- **8:00 AM - 9:00 AM:** Wake up, morning exercise.\n",
            "- **9:30 AM - 12:30 PM:** Attend classes/lectures.\n",
            "- **1:30 PM - 2:30 PM:** Lunch break.\n",
            "- **2:30 PM - 4:30 PM:** Study using online courses with strong audio components.\n",
            "- **5:00 PM - 6:00 PM:** Science Club meetings.\n",
            "- **7:00 PM - 8:00 PM:** Attend seminars/webinars.\n",
            "- **8:30 PM - 10:00 PM:** Self-reflection and summaries using audio recordings.\n",
            "\n",
            "**Thursday:**\n",
            "- **8:00 AM - 9:00 AM:** Wake up, morning exercise.\n",
            "- **9:30 AM - 12:30 PM:** Attend classes/lectures.\n",
            "- **1:30 PM - 2:30 PM:** Lunch break.\n",
            "- **2:30 PM - 4:30 PM:** Study and review (make audio recordings of key concepts).\n",
            "- **5:00 PM - 6:00 PM:** Volunteer at hospital.\n",
            "- **7:00 PM - 8:00 PM:** Group discussions, peer teaching.\n",
            "- **8:30 PM - 10:00 PM:** Relax and listen to recorded study material.\n",
            "\n",
            "**Friday:**\n",
            "- **8:00 AM - 9:00 AM:** Wake up, morning exercise.\n",
            "- **9:30 AM - 12:30 PM:** Attend classes/lectures.\n",
            "- **1:30 PM - 2:30 PM:** Lunch break.\n",
            "- **2:30 PM - 4:30 PM:** Concept application exercises (through auditory cues).\n",
            "- **5:00 PM - 6:00 PM:** Volunteering at hospital.\n",
            "- **7:00 PM - 8:00 PM:** Lectures review.\n",
            "- **8:30 PM - 10:00 PM:** Auditory revision and summary.\n",
            "\n",
            "**Saturday:**\n",
            "- **9:00 AM - 10:00 AM:** Morning exercise.\n",
            "- **10:30 AM - 12:30 PM:** Science Club experiential activities.\n",
            "- **1:30 PM - 2:30 PM:** Lunch break.\n",
            "- **2:30 PM - 4:30 PM:** Review and study using audio books/podcasts.\n",
            "- **Evening:** Social time, relax, extracurricular activities.\n",
            "\n",
            "**Sunday:**\n",
            "- **10:00 AM - 12:00 PM:** Relax, rest.\n",
            "- **1:00 PM - 3:00 PM:** Study session (auditory).\n",
            "- **4:00 PM - 6:00 PM:** Volunteer at hospital.\n",
            "- **Evening:** Family time/Relaxation and prepare for the upcoming week.\n",
            "\n",
            "---\n",
            "\n",
            "**Study Plan for Maria Rodriguez, 4th-year Psychology Student:**\n",
            "\n",
            "**Objective:** Boost motivation and focus to pursue a counseling career.\n",
            "\n",
            "**Weekly Schedule:**\n",
            "\n",
            "**Monday:**\n",
            "- **8:00 AM - 9:00 AM:** Wake up, morning exercise.\n",
            "- **9:30 AM - 12:30 PM:** Attend classes/lectures.\n",
            "- **1:30 PM - 2:30 PM:** Lunch break.\n",
            "- **2:30 PM - 4:30 PM:** Hands-on activities (experiments, field studies).\n",
            "- **5:00 PM - 6:00 PM:** Volunteer at mental health organization.\n",
            "- **7:00 PM - 8:00 PM:** Psychology Club activities.\n",
            "- **8:30 PM - 10:00 PM:** Reflect on hands-on experiences.\n",
            "\n",
            "**Tuesday:**\n",
            "- **8:00 AM - 9:00 AM:** Wake up, morning exercise.\n",
            "- **9:30 AM - 12:30 PM:** Attend classes/lectures.\n",
            "- **1:30 PM - 2:30 PM:** Lunch break.\n",
            "- **2:30 PM - 4:30 PM:** Study using interactive tools (role-play, simulations).\n",
            "- **5:00 PM - 6:00 PM:** Volunteer at mental health organization.\n",
            "- **7:00 PM - 8:00 PM:** Read case studies.\n",
            "- **8:30 PM - 10:00 PM:** Journal writing about motivational strategies.\n",
            "\n",
            "**Wednesday:**\n",
            "- **8:00 AM - 9:00 AM:** Wake up, morning exercise.\n",
            "- **9:30 AM - 12:30 PM:** Attend classes/lectures.\n",
            "- **1:30 PM - 2:30 PM:** Lunch break.\n",
            "- **2:30 PM - 4:30 PM:** Lab work, participatory learning.\n",
            "- **5:00 PM - 6:00 PM:** Psychology Club meetings.\n",
            "- **7:00 PM - 8:00 PM:** Personal therapy practice.\n",
            "- **8:30 PM - 10:00 PM:** Reflect and research new techniques.\n",
            "\n",
            "**Thursday:**\n",
            "- **8:00 AM - 9:00 AM:** Wake up, morning exercise.\n",
            "- **9:30 AM - 12:30 PM:** Attend classes/lectures.\n",
            "- **1:30 PM - 2:30 PM:** Lunch break.\n",
            "- **2:30 PM - 4:30 PM:** Group study using interactive discussions.\n",
            "- **5:00 PM - 6:00 PM:** Volunteer at mental health organization.\n",
            "- **7:00 PM - 8:00 PM:** Review of practical cases.\n",
            "- **8:30 PM - 10:00 PM:** Self-reflection, motivational reading.\n",
            "\n",
            "**Friday:**\n",
            "- **8:00 AM - 9:00 AM:** Wake up, morning exercise.\n",
            "- **9:30 AM - 12:30 PM:** Attend classes/lectures.\n",
            "- **1:30 PM - 2:30 PM:** Lunch break.\n",
            "- **2:30 PM - 4:30 PM:** Hands-on practical applications of theoretical knowledge.\n",
            "- **5:00 PM - 6:00 PM:** Volunteer at mental health organization.\n",
            "- **7:00 PM - 8:00 PM:** Attend workshops or seminars.\n",
            "- **8:30 PM - 10:00 PM:** Review week’s progress, adjust learning strategies.\n",
            "\n",
            "**Saturday:**\n",
            "- **9:00 AM - 10:00 AM:** Morning exercise.\n",
            "- **10:30 AM - 12:30 PM:** Psychology Club experiential activities.\n",
            "- **1:30 PM - 2:30 PM:** Lunch break.\n",
            "- **2:30 PM - 4:30 PM:** Review and practical work (interactive learning).\n",
            "- **Evening:** Social and leisure activities.\n",
            "\n",
            "**Sunday:**\n",
            "- **10:00 AM - 12:00 PM:** Relax and rest.\n",
            "- **1:00 PM - 3:00 PM:** Study session using kinesthetic methods.\n",
            "- **4:00 PM - 6:00 PM:** Volunteer at mental health organization.\n",
            "- **Evening:** Family time, socialize and prepare for the upcoming week.\n",
            "\n",
            "---\n",
            "\n",
            "Each study plan is tailored to leverage their learning preferences and commitments to help them achieve their respective goals effectively.\n"
          ]
        }
      ]
    },
    {
      "cell_type": "code",
      "source": [],
      "metadata": {
        "id": "KA7unw0_vD0c"
      },
      "execution_count": 55,
      "outputs": []
    },
    {
      "cell_type": "code",
      "source": [],
      "metadata": {
        "id": "SPXom2F0wpRs"
      },
      "execution_count": null,
      "outputs": []
    },
    {
      "cell_type": "code",
      "source": [],
      "metadata": {
        "id": "QBF8JR2-wpUP"
      },
      "execution_count": null,
      "outputs": []
    },
    {
      "cell_type": "code",
      "source": [],
      "metadata": {
        "id": "ZmS0lWEbwpW-"
      },
      "execution_count": null,
      "outputs": []
    },
    {
      "cell_type": "code",
      "source": [],
      "metadata": {
        "id": "NyoRweXlwpZz"
      },
      "execution_count": null,
      "outputs": []
    },
    {
      "cell_type": "code",
      "source": [],
      "metadata": {
        "id": "13K5zyaqxyPf"
      },
      "execution_count": null,
      "outputs": []
    },
    {
      "cell_type": "code",
      "source": [],
      "metadata": {
        "id": "8od8auwrxySK"
      },
      "execution_count": null,
      "outputs": []
    },
    {
      "cell_type": "code",
      "source": [],
      "metadata": {
        "id": "lAAa-8COxyVO"
      },
      "execution_count": null,
      "outputs": []
    },
    {
      "cell_type": "markdown",
      "source": [
        "## Exploring"
      ],
      "metadata": {
        "id": "lCKujTtAxvtT"
      }
    },
    {
      "cell_type": "code",
      "source": [
        "# function calling\n",
        "student_custom_function = [\n",
        "    {\n",
        "\n",
        "            \"name\": \"generate_student_study_plan\",\n",
        "            \"description\": \"Generates a personalized study plan for a student based on their academic and personal information\",\n",
        "            \"parameters\": {\n",
        "                \"type\": \"object\",\n",
        "                \"properties\": {\n",
        "                    \"name\": {\n",
        "                        \"type\": \"string\",\n",
        "                        \"description\": \"Student's name i.e. Ali Saleem, Alex Bat, Alice Venn.\"\n",
        "                    },\n",
        "                    \"field_of_study\": {\n",
        "                        \"type\": \"string\",\n",
        "                        \"description\": \"Student's field of study  i.e. Medicine, Computer Science\"\n",
        "                    },\n",
        "                    \"year_of_study\": {\n",
        "                        \"type\": \"integer\",\n",
        "                        \"description\": \"Student's year of study year of study i.e.2015, 2016\"\n",
        "                    },\n",
        "                    \"subjects\": {\n",
        "                        \"type\": \"array\",\n",
        "                        \"items\": {\n",
        "                            \"type\": \"string\"\n",
        "                        },\n",
        "                        \"description\": \"List of subjects the student is studying i.e. [Maths,Science, Physics ] , [Chemistry, English, Maths]\"\n",
        "                    },\n",
        "                    \"preferred_learning_style\": {\n",
        "                        \"type\": \"string\",\n",
        "                        \"description\": \"Student's preferred learning style  i.e. visual, auditory, kinesthetic.\"\n",
        "                    },\n",
        "                    \"personal_objectives\": {\n",
        "                        \"type\": \"string\",\n",
        "                        \"description\": \"Student's future goals or aspirations  i.e. being athlete, doctor, engineer or just getting into a good college only.\"\n",
        "                    },\n",
        "                    \"challenges\": {\n",
        "                        \"type\": \"string\",\n",
        "                        \"description\": \"Student's specific challenges or difficulties such as preparing for a specific exam or overcoming a learning difficulty\"\n",
        "                    },\n",
        "                    \"extracurricular_activities\": {\n",
        "                        \"type\": \"array\",\n",
        "                        \"items\": {\n",
        "                            \"type\": \"string\"\n",
        "                        },\n",
        "                        \"description\": \"List of student's extracurricular activities. These can be sports, singing, debates,etc\"\n",
        "                    }\n",
        "\n",
        "            }\n",
        "        }\n",
        "    }\n",
        "]"
      ],
      "metadata": {
        "id": "Nx0f9ZYiidyf"
      },
      "execution_count": 28,
      "outputs": []
    }
  ]
}